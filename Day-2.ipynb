{
 "cells": [
  {
   "cell_type": "code",
   "execution_count": null,
   "id": "3ed4c9e9",
   "metadata": {},
   "outputs": [],
   "source": []
  },
  {
   "cell_type": "markdown",
   "id": "b46b2c4a",
   "metadata": {},
   "source": [
    "- Mark down syntax:\n",
    "        - headings\n",
    "                - '#'-->heading\n",
    "        - sub headings\n",
    "                - '*'\n",
    "        - images"
   ]
  },
  {
   "cell_type": "markdown",
   "id": "49ade233",
   "metadata": {},
   "source": [
    "# Heading1\n",
    "## Heading 2\n",
    "### Heading3\n",
    "#### Heading4\n",
    "##### Heading 5\n",
    "###### Heading6\n",
    "#######"
   ]
  },
  {
   "cell_type": "markdown",
   "id": "e97f0e19",
   "metadata": {},
   "source": [
    "* Data Analysis\n",
    "    * django\n",
    "    * machine learning\n",
    "        * data science\n",
    "        * data mining"
   ]
  },
  {
   "cell_type": "markdown",
   "id": "47ff0b74",
   "metadata": {},
   "source": [
    "<img src=\"Apssdc.jpg\">"
   ]
  },
  {
   "cell_type": "markdown",
   "id": "4f949b1d",
   "metadata": {},
   "source": [
    "[google](https://www.google.co.in/)"
   ]
  },
  {
   "cell_type": "markdown",
   "id": "996fde58",
   "metadata": {},
   "source": [
    "##### Package and module:\n",
    "##### Package:\n",
    "        - it is a collection of modules\n",
    "        \n",
    "##### module:\n",
    "        - it is a .py file\n",
    "        - it contanis collection of variables,classes,functions,keywords...\n",
    "        - for accessing a module python provides one keyword \"import\"\n",
    "        - syntax:\n",
    "                import module name\n",
    "                \n",
    "                \n",
    "##### types of modules:\n",
    "           - userdefined module\n",
    "                   - which is created by a user\n",
    "           - builtin module"
   ]
  },
  {
   "cell_type": "code",
   "execution_count": null,
   "id": "9051ee43",
   "metadata": {},
   "outputs": [],
   "source": [
    "##### builtin modules"
   ]
  },
  {
   "cell_type": "code",
   "execution_count": 2,
   "id": "737a8225",
   "metadata": {},
   "outputs": [],
   "source": [
    "import math"
   ]
  },
  {
   "cell_type": "code",
   "execution_count": 10,
   "id": "cf05e834",
   "metadata": {},
   "outputs": [
    {
     "name": "stdout",
     "output_type": "stream",
     "text": [
      "720\n",
      "6\n",
      "3.141592653589793\n",
      "8.0\n",
      "9.0\n",
      "2.718281828459045\n",
      "6\n",
      "7\n"
     ]
    }
   ],
   "source": [
    "print(math.factorial(6))\n",
    "print(math.gcd(6,24))\n",
    "print(math.pi)\n",
    "print(math.pow(2,3))\n",
    "print(math.sqrt(81))\n",
    "print(math.exp(1))\n",
    "print(math.floor(6.7))\n",
    "print(math.ceil(6.7))"
   ]
  },
  {
   "cell_type": "code",
   "execution_count": 13,
   "id": "b352f14d",
   "metadata": {},
   "outputs": [
    {
     "name": "stdout",
     "output_type": "stream",
     "text": [
      "0.6931471805599453\n",
      "1.0\n",
      "1.0\n"
     ]
    }
   ],
   "source": [
    "#### logrithmic functions\n",
    "print(math.log(2))\n",
    "print(math.log2(2))\n",
    "print(math.log10(10))"
   ]
  },
  {
   "cell_type": "code",
   "execution_count": 16,
   "id": "3116645a",
   "metadata": {},
   "outputs": [
    {
     "name": "stdout",
     "output_type": "stream",
     "text": [
      "0.24740395925452294\n",
      "0.9689124217106447\n",
      "0.25534192122103627\n"
     ]
    }
   ],
   "source": [
    "x=0.25\n",
    "print(math.sin(x))\n",
    "print(math.cos(x))\n",
    "print(math.tan(x))"
   ]
  },
  {
   "cell_type": "code",
   "execution_count": 17,
   "id": "9df44d4b",
   "metadata": {},
   "outputs": [],
   "source": [
    "import statistics as sts"
   ]
  },
  {
   "cell_type": "code",
   "execution_count": 23,
   "id": "559679a0",
   "metadata": {},
   "outputs": [
    {
     "name": "stdout",
     "output_type": "stream",
     "text": [
      "[23, 12, 23, 45, 56, 45, 67, 78, 89]\n",
      "<class 'list'>\n",
      "[12, 23, 23, 45, 45, 56, 67, 78, 89]\n"
     ]
    }
   ],
   "source": [
    "li=[23,12,23,45,56,45,67,78,89]\n",
    "print(li)\n",
    "print(type(li))\n",
    "print(sorted(li))"
   ]
  },
  {
   "cell_type": "code",
   "execution_count": 25,
   "id": "4ae32e03",
   "metadata": {},
   "outputs": [
    {
     "name": "stdout",
     "output_type": "stream",
     "text": [
      "48.666666666666664\n",
      "23\n",
      "45\n",
      "695.75\n",
      "26.377073378219958\n"
     ]
    }
   ],
   "source": [
    "print(sts.mean(li))\n",
    "print(sts.mode(li))\n",
    "print(sts.median(li))\n",
    "print(sts.variance(li))\n",
    "print(sts.stdev(li))"
   ]
  },
  {
   "cell_type": "code",
   "execution_count": 26,
   "id": "1e495940",
   "metadata": {},
   "outputs": [],
   "source": [
    "import sys"
   ]
  },
  {
   "cell_type": "code",
   "execution_count": 27,
   "id": "86f640a4",
   "metadata": {},
   "outputs": [
    {
     "name": "stdout",
     "output_type": "stream",
     "text": [
      "['C:\\\\Users\\\\win\\\\Desktop\\\\Data-Analysis-GVP', 'C:\\\\ProgramData\\\\Anaconda3\\\\python39.zip', 'C:\\\\ProgramData\\\\Anaconda3\\\\DLLs', 'C:\\\\ProgramData\\\\Anaconda3\\\\lib', 'C:\\\\ProgramData\\\\Anaconda3', '', 'C:\\\\Users\\\\win\\\\AppData\\\\Roaming\\\\Python\\\\Python39\\\\site-packages', 'C:\\\\ProgramData\\\\Anaconda3\\\\lib\\\\site-packages', 'C:\\\\ProgramData\\\\Anaconda3\\\\lib\\\\site-packages\\\\win32', 'C:\\\\ProgramData\\\\Anaconda3\\\\lib\\\\site-packages\\\\win32\\\\lib', 'C:\\\\ProgramData\\\\Anaconda3\\\\lib\\\\site-packages\\\\Pythonwin', 'C:\\\\ProgramData\\\\Anaconda3\\\\lib\\\\site-packages\\\\IPython\\\\extensions', 'C:\\\\Users\\\\win\\\\.ipython']\n"
     ]
    }
   ],
   "source": [
    "print(sys.path)"
   ]
  },
  {
   "cell_type": "code",
   "execution_count": 28,
   "id": "a2111da4",
   "metadata": {},
   "outputs": [],
   "source": [
    "import datetime"
   ]
  },
  {
   "cell_type": "code",
   "execution_count": 30,
   "id": "a9bdaa46",
   "metadata": {},
   "outputs": [
    {
     "name": "stdout",
     "output_type": "stream",
     "text": [
      "2024-09-18\n"
     ]
    }
   ],
   "source": [
    "print(datetime.date.today())"
   ]
  },
  {
   "cell_type": "code",
   "execution_count": 33,
   "id": "91df96ae",
   "metadata": {},
   "outputs": [
    {
     "name": "stdout",
     "output_type": "stream",
     "text": [
      "2024\n",
      "9\n",
      "18\n"
     ]
    }
   ],
   "source": [
    "y=datetime.date.today()\n",
    "print(y.year)\n",
    "print(y.month)\n",
    "print(y.day)"
   ]
  },
  {
   "cell_type": "code",
   "execution_count": null,
   "id": "e9d911b7",
   "metadata": {},
   "outputs": [],
   "source": [
    "#### userdefined  module"
   ]
  },
  {
   "cell_type": "code",
   "execution_count": 1,
   "id": "11f4414f",
   "metadata": {},
   "outputs": [],
   "source": [
    "import Sample"
   ]
  },
  {
   "cell_type": "code",
   "execution_count": 4,
   "id": "d9e59aa5",
   "metadata": {},
   "outputs": [
    {
     "name": "stdout",
     "output_type": "stream",
     "text": [
      "Even\n"
     ]
    }
   ],
   "source": [
    "Sample.IsEven(10)"
   ]
  },
  {
   "cell_type": "code",
   "execution_count": null,
   "id": "318fc1e2",
   "metadata": {},
   "outputs": [],
   "source": []
  }
 ],
 "metadata": {
  "kernelspec": {
   "display_name": "Python 3 (ipykernel)",
   "language": "python",
   "name": "python3"
  },
  "language_info": {
   "codemirror_mode": {
    "name": "ipython",
    "version": 3
   },
   "file_extension": ".py",
   "mimetype": "text/x-python",
   "name": "python",
   "nbconvert_exporter": "python",
   "pygments_lexer": "ipython3",
   "version": "3.9.13"
  }
 },
 "nbformat": 4,
 "nbformat_minor": 5
}
