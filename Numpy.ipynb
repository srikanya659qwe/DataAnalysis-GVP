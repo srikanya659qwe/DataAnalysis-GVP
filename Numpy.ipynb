{
 "cells": [
  {
   "cell_type": "markdown",
   "id": "6c1fc1c4",
   "metadata": {},
   "source": [
    "##### numpy:\n",
    "       - numpy stands for numerical python\n",
    "       - by using numpy library we can create multi dimensional arrays in python\n",
    "       - the default dimension size of numpy is 32.\n",
    "\n",
    "##### library installation:\n",
    "        - pip install library name or package name\n",
    "                ex: pip install numpy\n",
    "\n",
    "\n",
    "##### libary usage:\n",
    "        - import numpy"
   ]
  },
  {
   "cell_type": "code",
   "execution_count": 1,
   "id": "659306c6",
   "metadata": {},
   "outputs": [
    {
     "name": "stdout",
     "output_type": "stream",
     "text": [
      "Defaulting to user installation because normal site-packages is not writeable\n",
      "Requirement already satisfied: numpy in c:\\programdata\\anaconda3\\lib\\site-packages (1.21.5)\n",
      "Note: you may need to restart the kernel to use updated packages.\n"
     ]
    }
   ],
   "source": [
    "pip install numpy"
   ]
  },
  {
   "cell_type": "code",
   "execution_count": 3,
   "id": "8ead7cb4",
   "metadata": {},
   "outputs": [],
   "source": [
    "import numpy as np"
   ]
  },
  {
   "cell_type": "code",
   "execution_count": 4,
   "id": "1eb1e98d",
   "metadata": {},
   "outputs": [
    {
     "data": {
      "text/plain": [
       "'1.21.5'"
      ]
     },
     "execution_count": 4,
     "metadata": {},
     "output_type": "execute_result"
    }
   ],
   "source": [
    "np.__version__"
   ]
  },
  {
   "cell_type": "markdown",
   "id": "219d4b54",
   "metadata": {},
   "source": [
    "#### how to create an array by using numpy:\n",
    "            np.array([e1,e2,e3,e4,...en])"
   ]
  },
  {
   "cell_type": "code",
   "execution_count": 6,
   "id": "06a5868f",
   "metadata": {},
   "outputs": [
    {
     "data": {
      "text/plain": [
       "array([23, 34, 45, 56, 67, 78, 89, 90])"
      ]
     },
     "execution_count": 6,
     "metadata": {},
     "output_type": "execute_result"
    }
   ],
   "source": [
    "a=np.array([23,34,45,56,67,78,89,90])\n",
    "a"
   ]
  },
  {
   "cell_type": "code",
   "execution_count": 7,
   "id": "ca32fcb7",
   "metadata": {},
   "outputs": [
    {
     "data": {
      "text/plain": [
       "numpy.ndarray"
      ]
     },
     "execution_count": 7,
     "metadata": {},
     "output_type": "execute_result"
    }
   ],
   "source": [
    "type(a)"
   ]
  },
  {
   "cell_type": "markdown",
   "id": "12d1e663",
   "metadata": {},
   "source": [
    "##### how to access an array elements:\n",
    "        - index\n",
    "                - array_variable[index_position]\n",
    "                    - +ve index\n",
    "                            left to right(0,1,2....n)\n",
    "                    - - ve index\n",
    "                            right to left(-1,-2,-3....)\n",
    "        - slicing\n",
    "               - syntax:\n",
    "                       array_variable[start_index:end_index+1:step_value]"
   ]
  },
  {
   "cell_type": "code",
   "execution_count": 12,
   "id": "42d3ea2e",
   "metadata": {},
   "outputs": [
    {
     "name": "stdout",
     "output_type": "stream",
     "text": [
      "[23 34 45 56 67 78 89 90]\n",
      "56\n",
      "90\n",
      "90\n",
      "78\n"
     ]
    }
   ],
   "source": [
    "#### index:0\n",
    "print(a)\n",
    "print(a[3])\n",
    "print(a[7])\n",
    "print(a[-1])\n",
    "print(a[-3])"
   ]
  },
  {
   "cell_type": "code",
   "execution_count": 37,
   "id": "33b6bd04",
   "metadata": {},
   "outputs": [
    {
     "name": "stdout",
     "output_type": "stream",
     "text": [
      "[23 34 45 56 67 78 89 90]\n",
      "[23 34 45 56 67 78 89 90]\n",
      "[23 34 45 56]\n",
      "[23 34 45 56]\n",
      "[67 78 89 90]\n",
      "[67 78 89 90]\n",
      "[90 89 78 67 56 45 34 23]\n",
      "[90 89 78 67 56 45 34 23]\n",
      "[23 45 67 89]\n",
      "[23 45 67 89]\n",
      "[90 78 56 34]\n",
      "[90 78 56 34]\n"
     ]
    }
   ],
   "source": [
    "# slicing\n",
    "print(a)\n",
    "print(a[0:8:1])\n",
    "print(a[0:4])\n",
    "print(a[:4])\n",
    "print(a[4:8])\n",
    "print(a[4:])\n",
    "# reverse()\n",
    "print(a[-1:-9:-1])\n",
    "print(a[::-1])\n",
    "print(a[0:8:2])\n",
    "print(a[::2])\n",
    "print(a[-1:-9:-2])\n",
    "print(a[::-2])\n",
    "\n",
    "\n"
   ]
  },
  {
   "cell_type": "code",
   "execution_count": null,
   "id": "447fb359",
   "metadata": {},
   "outputs": [],
   "source": [
    "90 78 56 34"
   ]
  }
 ],
 "metadata": {
  "kernelspec": {
   "display_name": "Python 3 (ipykernel)",
   "language": "python",
   "name": "python3"
  },
  "language_info": {
   "codemirror_mode": {
    "name": "ipython",
    "version": 3
   },
   "file_extension": ".py",
   "mimetype": "text/x-python",
   "name": "python",
   "nbconvert_exporter": "python",
   "pygments_lexer": "ipython3",
   "version": "3.9.13"
  }
 },
 "nbformat": 4,
 "nbformat_minor": 5
}
