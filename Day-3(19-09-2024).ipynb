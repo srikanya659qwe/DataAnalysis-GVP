{
 "cells": [
  {
   "cell_type": "markdown",
   "id": "12a47e00",
   "metadata": {},
   "source": [
    "#### Day objecctives:\n",
    "        - file handling in python"
   ]
  },
  {
   "cell_type": "markdown",
   "id": "0fee4b5b",
   "metadata": {},
   "source": [
    "##### file:\n",
    "        - it contains raw information/it is a collection of data\n",
    "        - file types:\n",
    "                .py,.txt,.png,.jpeg,.html,.exe....\n",
    "\n",
    "##### file handling steps:\n",
    "        - open a file\n",
    "                - open('file name/file location',mode)\n",
    "                - with open('file location',mode)\n",
    "        - doing an operation\n",
    "                - read()\n",
    "                     - it reads entire file data and returns a string\n",
    "                     - syntax:\n",
    "                             - filename.read()\n",
    "                - write()\n",
    "                    - it inserts new data into the file\n",
    "                            - filename.write(\"string\")\n",
    "        - close a file\n",
    "                - filename.close()\n",
    "\n",
    "\n",
    "##### file modes:\n",
    "            - read mode--->'r'--->default\n",
    "            - write mode--->'w'\n",
    "            - append mode--->'a'"
   ]
  },
  {
   "cell_type": "code",
   "execution_count": 1,
   "id": "3a5ac158",
   "metadata": {
    "scrolled": true
   },
   "outputs": [
    {
     "name": "stdout",
     "output_type": "stream",
     "text": [
      "Hello..students welcome to apssdc online\n",
      "data analysis session\n",
      "line3\n",
      "line4\n",
      "line5\n"
     ]
    }
   ],
   "source": [
    "#### read operation()\n",
    "f=open('file.txt','r')\n",
    "data=f.read()\n",
    "print(data)\n",
    "f.close()"
   ]
  },
  {
   "cell_type": "code",
   "execution_count": 2,
   "id": "5370bbcf",
   "metadata": {},
   "outputs": [
    {
     "name": "stdout",
     "output_type": "stream",
     "text": [
      "Hello..students welcome to apssdc online\n",
      "data analysis session\n",
      "line3\n",
      "line4\n",
      "line5\n"
     ]
    }
   ],
   "source": [
    "with open('file.txt','r') as f1:\n",
    "    res=f1.read()\n",
    "    print(res)\n",
    "    "
   ]
  },
  {
   "cell_type": "code",
   "execution_count": 4,
   "id": "81f1a5b8",
   "metadata": {},
   "outputs": [
    {
     "name": "stdout",
     "output_type": "stream",
     "text": [
      "Enter your file name here!file.txt\n",
      "Enter your file mode here!r\n",
      "Hello..students welcome to apssdc online\n",
      "data analysis session\n",
      "line3\n",
      "line4\n",
      "line5\n"
     ]
    }
   ],
   "source": [
    "# function to check read operation in file handling:\n",
    "def ReadFile(filename,mode):\n",
    "    with open (filename,mode) as f2:\n",
    "        res1=f2.read()\n",
    "        print(res1)\n",
    "    \n",
    "filename=input(\"Enter your file name here!\")\n",
    "mode=input(\"Enter your file mode here!\")\n",
    "ReadFile(filename,mode)"
   ]
  },
  {
   "cell_type": "code",
   "execution_count": 8,
   "id": "f722d0bf",
   "metadata": {},
   "outputs": [
    {
     "name": "stdout",
     "output_type": "stream",
     "text": [
      "52\n"
     ]
    }
   ],
   "source": [
    "#### write operation():\n",
    "w=open('file.txt','w')\n",
    "res2=w.write(\"hello guys this is write operation in file handling\\n\")\n",
    "print(res2)\n",
    "w.close()"
   ]
  },
  {
   "cell_type": "code",
   "execution_count": 9,
   "id": "e5044671",
   "metadata": {},
   "outputs": [
    {
     "name": "stdout",
     "output_type": "stream",
     "text": [
      "40\n"
     ]
    }
   ],
   "source": [
    "# append mode()\n",
    "w=open('file.txt','a')\n",
    "res2=w.write(\"hello guys now here im using append mode\")\n",
    "print(res2)\n",
    "w.close()"
   ]
  },
  {
   "cell_type": "code",
   "execution_count": 11,
   "id": "2d1ac5d6",
   "metadata": {
    "collapsed": true
   },
   "outputs": [
    {
     "name": "stdout",
     "output_type": "stream",
     "text": [
      "Enter your file name here!file2.txt\n",
      "Enter your file mode here!w\n",
      "41\n"
     ]
    }
   ],
   "source": [
    "def WriteFile(filename,mode):\n",
    "    with open (filename,mode) as f3:\n",
    "        res1=f3.write(\"now here im going to create new text file\\n\")\n",
    "        print(res1)\n",
    "    \n",
    "filename=input(\"Enter your file name here!\")\n",
    "mode=input(\"Enter your file mode here!\")\n",
    "WriteFile(filename,mode)"
   ]
  },
  {
   "cell_type": "code",
   "execution_count": 13,
   "id": "1a5fd449",
   "metadata": {},
   "outputs": [
    {
     "name": "stdout",
     "output_type": "stream",
     "text": [
      "Enter your file name here!file2.txt\n",
      "Enter your file mode here!a\n",
      "29\n"
     ]
    }
   ],
   "source": [
    "def AppendFile(filename,mode):\n",
    "    with open (filename,mode) as f3:\n",
    "        res1=f3.write(\"now here im using append mode\")\n",
    "        print(res1)\n",
    "    \n",
    "filename=input(\"Enter your file name here!\")\n",
    "mode=input(\"Enter your file mode here!\")\n",
    "AppendFile(filename,mode)"
   ]
  },
  {
   "cell_type": "markdown",
   "id": "54d9d11a",
   "metadata": {},
   "source": [
    "#### file handling methods:\n",
    "        - read()\n",
    "        - readline()\n",
    "        - readlines()\n",
    "        - split()\n",
    "        - tell()\n",
    "        - seek()"
   ]
  },
  {
   "cell_type": "code",
   "execution_count": 16,
   "id": "7a35e53f",
   "metadata": {},
   "outputs": [
    {
     "name": "stdout",
     "output_type": "stream",
     "text": [
      "hello\n"
     ]
    }
   ],
   "source": [
    "# read()\n",
    "with open('file.txt','r') as f1:\n",
    "    res=f1.read(5)\n",
    "    print(res)\n",
    "    "
   ]
  },
  {
   "cell_type": "code",
   "execution_count": 17,
   "id": "53d7fcea",
   "metadata": {},
   "outputs": [
    {
     "name": "stdout",
     "output_type": "stream",
     "text": [
      "hello guys this is write operation in file handling\n",
      "\n"
     ]
    }
   ],
   "source": [
    "# readline()\n",
    "with open('file.txt','r') as f1:\n",
    "    res=f1.readline()\n",
    "    print(res)\n",
    "    "
   ]
  },
  {
   "cell_type": "code",
   "execution_count": 18,
   "id": "73c6eda1",
   "metadata": {},
   "outputs": [
    {
     "name": "stdout",
     "output_type": "stream",
     "text": [
      "now here im going to create new text filenow here im using append modenow here im using append mode\n"
     ]
    }
   ],
   "source": [
    "with open('file2.txt','r') as f1:\n",
    "    res=f1.readline()\n",
    "    print(res)\n",
    "    "
   ]
  },
  {
   "cell_type": "code",
   "execution_count": 19,
   "id": "4473b227",
   "metadata": {},
   "outputs": [
    {
     "name": "stdout",
     "output_type": "stream",
     "text": [
      "['hello guys this is write operation in file handling\\n', 'hello guys now here im using append mode']\n"
     ]
    }
   ],
   "source": [
    "# readlines\n",
    "with open('file.txt','r') as f1:\n",
    "    res=f1.readlines()\n",
    "    print(res)\n",
    "    "
   ]
  },
  {
   "cell_type": "code",
   "execution_count": 20,
   "id": "9d200888",
   "metadata": {},
   "outputs": [
    {
     "name": "stdout",
     "output_type": "stream",
     "text": [
      "['now here im going to create new text filenow here im using append modenow here im using append mode']\n"
     ]
    }
   ],
   "source": [
    "with open('file2.txt','r') as f1:\n",
    "    res=f1.readlines()\n",
    "    print(res)\n",
    "    "
   ]
  },
  {
   "cell_type": "markdown",
   "id": "7b4c2468",
   "metadata": {},
   "source": [
    "#### tell():it returns cursor position of a given file\n",
    "#### seek():it changes the cursor position from one location to another location in file"
   ]
  },
  {
   "cell_type": "code",
   "execution_count": 21,
   "id": "47160a0f",
   "metadata": {},
   "outputs": [
    {
     "name": "stdout",
     "output_type": "stream",
     "text": [
      "0\n"
     ]
    }
   ],
   "source": [
    "f4=open('file.txt','r')\n",
    "print(f4.tell())\n",
    "\n",
    "f4.close()"
   ]
  },
  {
   "cell_type": "code",
   "execution_count": 23,
   "id": "86a545bb",
   "metadata": {},
   "outputs": [
    {
     "name": "stdout",
     "output_type": "stream",
     "text": [
      "93\n",
      "45\n"
     ]
    }
   ],
   "source": [
    "f4=open('file.txt','r')\n",
    "res5=f4.read()\n",
    "print(f4.tell())\n",
    "s2=f4.seek(45)\n",
    "print(f4.tell())\n",
    "f4.close()"
   ]
  },
  {
   "cell_type": "code",
   "execution_count": null,
   "id": "affb9a4c",
   "metadata": {},
   "outputs": [],
   "source": []
  }
 ],
 "metadata": {
  "kernelspec": {
   "display_name": "Python 3 (ipykernel)",
   "language": "python",
   "name": "python3"
  },
  "language_info": {
   "codemirror_mode": {
    "name": "ipython",
    "version": 3
   },
   "file_extension": ".py",
   "mimetype": "text/x-python",
   "name": "python",
   "nbconvert_exporter": "python",
   "pygments_lexer": "ipython3",
   "version": "3.9.13"
  }
 },
 "nbformat": 4,
 "nbformat_minor": 5
}
