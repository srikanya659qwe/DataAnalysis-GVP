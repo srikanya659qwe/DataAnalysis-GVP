{
 "cells": [
  {
   "cell_type": "markdown",
   "id": "2a2d0484",
   "metadata": {},
   "source": [
    "#### Day objectives:\n",
    "        - DataAnalysis introduction"
   ]
  },
  {
   "cell_type": "markdown",
   "id": "cd10f06b",
   "metadata": {},
   "source": [
    "##### Data:\n",
    "    - it is a collection of raw information\n",
    "                or\n",
    "    - it is a collection of files\n",
    "\n",
    "\n",
    "##### types of data:\n",
    "       - Structured Data\n",
    "                   ex: tables(rows,columns)\n",
    "       - Un-Structured Data\n",
    "                   ex: ppt files,pdf files,audio,video,images...\n",
    "       - Semi Structured Data\n",
    "                   ex: xml files,js files,json files\n",
    "\n",
    "\n",
    "##### types of data in statistics:\n",
    "        - numerical data\n",
    "                - data which is made of numbers\n",
    "                - types of data:\n",
    "                        - discrete data\n",
    "                                ex:no of childerns,no of students in class room,no of emps in company\n",
    "                        - continuous data\n",
    "                                ex: age,height,temp...\n",
    "        - categorical data\n",
    "                - data which is made of characters\n",
    "                - types of data:\n",
    "                        - nominal data\n",
    "                                ex: gender,hair color,eye color,religion\n",
    "                        - ordinal data\n",
    "                                ex:grade system,economic status,education level\n",
    "\n",
    "##### Data Analysis:\n",
    "        - data analysis is a process of cleaning,transforming and modelling data to discover useful information and support for decision making.\n",
    "\n",
    "\n",
    "##### python libraries for data analysis:\n",
    "        - numpy\n",
    "        - pandas\n",
    "        - matplot lib\n",
    "        - seaborn"
   ]
  },
  {
   "cell_type": "code",
   "execution_count": null,
   "id": "7d66ef8b",
   "metadata": {},
   "outputs": [],
   "source": []
  },
  {
   "cell_type": "code",
   "execution_count": null,
   "id": "a47d4719",
   "metadata": {},
   "outputs": [],
   "source": []
  },
  {
   "cell_type": "code",
   "execution_count": null,
   "id": "af169a63",
   "metadata": {},
   "outputs": [],
   "source": []
  }
 ],
 "metadata": {
  "kernelspec": {
   "display_name": "Python 3 (ipykernel)",
   "language": "python",
   "name": "python3"
  },
  "language_info": {
   "codemirror_mode": {
    "name": "ipython",
    "version": 3
   },
   "file_extension": ".py",
   "mimetype": "text/x-python",
   "name": "python",
   "nbconvert_exporter": "python",
   "pygments_lexer": "ipython3",
   "version": "3.9.13"
  }
 },
 "nbformat": 4,
 "nbformat_minor": 5
}
